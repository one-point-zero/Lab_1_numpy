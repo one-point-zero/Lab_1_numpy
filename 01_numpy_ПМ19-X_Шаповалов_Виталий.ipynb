{
 "cells": [
  {
   "cell_type": "markdown",
   "metadata": {},
   "source": [
    "# Numpy"
   ]
  },
  {
   "cell_type": "markdown",
   "metadata": {},
   "source": [
    "Материалы:\n",
    "* Макрушин С.В. \"Лекция 1: Библиотека Numpy\"\n",
    "* https://numpy.org/doc/stable/user/index.html\n",
    "* https://numpy.org/doc/stable/reference/index.html"
   ]
  },
  {
   "cell_type": "markdown",
   "metadata": {},
   "source": [
    "## Задачи для совместного разбора"
   ]
  },
  {
   "cell_type": "markdown",
   "metadata": {},
   "source": [
    "1. Сгенерировать двухмерный массив `arr` размерности (4, 7), состоящий из случайных действительных чисел, равномерно распределенных в диапазоне от 0 до 20. Нормализовать значения массива с помощью преобразования вида  $𝑎𝑥+𝑏$  так, что после нормализации максимальный элемент масcива будет равен 1.0, минимальный 0.0"
   ]
  },
  {
   "cell_type": "code",
   "execution_count": 4,
   "metadata": {},
   "outputs": [],
   "source": [
    "import numpy as np"
   ]
  },
  {
   "cell_type": "code",
   "execution_count": 6,
   "metadata": {},
   "outputs": [
    {
     "data": {
      "text/plain": [
       "array([[ 4, 10, 12, 18,  3,  0, 12],\n",
       "       [ 0,  8,  6,  4,  2,  1, 11],\n",
       "       [ 8, 17,  1, 10, 17,  6,  8],\n",
       "       [ 7,  1,  9, 11,  6, 16, 11]])"
      ]
     },
     "execution_count": 6,
     "metadata": {},
     "output_type": "execute_result"
    }
   ],
   "source": [
    "np.random.randint(0, 20, size = (4, 7))"
   ]
  },
  {
   "cell_type": "markdown",
   "metadata": {},
   "source": [
    "2. Создать матрицу 8 на 10 из случайных целых (используя модуль `numpy.random`) чисел из диапозона от 0 до 10 и найти в ней строку (ее индекс и вывести саму строку), в которой сумма значений минимальна."
   ]
  },
  {
   "cell_type": "code",
   "execution_count": 7,
   "metadata": {},
   "outputs": [
    {
     "data": {
      "text/plain": [
       "array([[3, 7, 9, 1, 9, 6, 9, 3, 2, 9],\n",
       "       [7, 8, 9, 7, 8, 3, 1, 5, 3, 9],\n",
       "       [1, 4, 2, 3, 9, 4, 1, 5, 4, 1],\n",
       "       [1, 4, 7, 9, 4, 7, 6, 8, 7, 8],\n",
       "       [0, 9, 4, 7, 8, 4, 5, 2, 4, 6],\n",
       "       [6, 1, 2, 9, 6, 8, 1, 9, 0, 2],\n",
       "       [5, 2, 4, 5, 9, 2, 1, 7, 5, 1],\n",
       "       [9, 2, 8, 5, 1, 4, 7, 9, 6, 2]])"
      ]
     },
     "execution_count": 7,
     "metadata": {},
     "output_type": "execute_result"
    }
   ],
   "source": [
    "np.random.randint(0, 10, size = (8, 10))"
   ]
  },
  {
   "cell_type": "markdown",
   "metadata": {},
   "source": [
    "3. Найти евклидово расстояние между двумя одномерными векторами одинаковой размерности."
   ]
  },
  {
   "cell_type": "code",
   "execution_count": 10,
   "metadata": {},
   "outputs": [],
   "source": [
    "import matplotlib.pyplot as pl\n",
    "from mpl_toolkits.mplot3d import Axes3D"
   ]
  },
  {
   "cell_type": "code",
   "execution_count": null,
   "metadata": {},
   "outputs": [],
   "source": []
  },
  {
   "cell_type": "markdown",
   "metadata": {},
   "source": [
    "4. Решить матричное уравнение `A*X*B=-C` - найти матрицу `X`. Где `A = [[-1, 2, 4], [-3, 1, 2], [-3, 0, 1]]`, `B=[[3, -1], [2, 1]]`, `C=[[7, 21], [11, 8], [8, 4]]`."
   ]
  },
  {
   "cell_type": "markdown",
   "metadata": {},
   "source": [
    "## Лабораторная работа №1"
   ]
  },
  {
   "cell_type": "markdown",
   "metadata": {},
   "source": [
    "Замечание: при решении данных задач не подразумевается использования циклов или генераторов Python, если в задании не сказано обратного. Решение должно опираться на использования функционала библиотеки `numpy`."
   ]
  },
  {
   "cell_type": "markdown",
   "metadata": {},
   "source": [
    "1. Файл `minutes_n_ingredients.csv` содержит информацию об идентификаторе рецепта, времени его выполнения в минутах и количестве необходимых ингредиентов. Считайте данные из этого файла в виде массива `numpy` типа `int32`, используя `np.loadtxt`. Выведите на экран первые 5 строк массива."
   ]
  },
  {
   "cell_type": "code",
   "execution_count": 1,
   "metadata": {},
   "outputs": [
    {
     "data": {
      "text/plain": [
       "array([[127244,     60,     16],\n",
       "       [ 23891,     25,      7],\n",
       "       [ 94746,     10,      6],\n",
       "       [ 67660,      5,      6],\n",
       "       [157911,     60,     14]])"
      ]
     },
     "execution_count": 1,
     "metadata": {},
     "output_type": "execute_result"
    }
   ],
   "source": [
    "import numpy as np\n",
    "import random\n",
    "s_l = np.loadtxt('minutes_n_ingredients.csv', skiprows = 1, delimiter = ',', dtype = np.int32)\n",
    "s = s_l[:5, :]\n",
    "s # массив для вывода"
   ]
  },
  {
   "cell_type": "markdown",
   "metadata": {},
   "source": [
    "2. Вычислите среднее значение, минимум, максимум и медиану по каждому из столбцов, кроме первого."
   ]
  },
  {
   "cell_type": "code",
   "execution_count": 2,
   "metadata": {},
   "outputs": [
    {
     "name": "stdout",
     "output_type": "stream",
     "text": [
      "[21601.00169, 9.05528]\n",
      "[0, 1]\n",
      "[2147483647, 39]\n",
      "[40.0, 9.0]\n"
     ]
    }
   ],
   "source": [
    "print(list(s_l[:, 1:].mean(axis = 0))) # список средних значений из столбцов\n",
    "print(list(s_l[:, 1:].min(axis = 0))) # список минимальных значений из столбцов\n",
    "print(list(s_l[:, 1:].max(axis = 0))) # список максимальных значений из столбцов\n",
    "print(list(np.median(s_l[:, 1:], axis = 0))) # список медиан из столбцов"
   ]
  },
  {
   "cell_type": "markdown",
   "metadata": {},
   "source": [
    "3. Ограничьте сверху значения продолжительности выполнения рецепта значением квантиля $q_{0.75}$. "
   ]
  },
  {
   "cell_type": "code",
   "execution_count": 3,
   "metadata": {},
   "outputs": [
    {
     "name": "stdout",
     "output_type": "stream",
     "text": [
      "[[127244     60     16]\n",
      " [ 23891     25      7]\n",
      " [ 94746     10      6]\n",
      " ...\n",
      " [498432     65     15]\n",
      " [370915      5      4]\n",
      " [ 81993     65     14]]\n"
     ]
    }
   ],
   "source": [
    "new_s = s_l[:, 1:] # создаём новый массив без столбца 'id'\n",
    "q = new_s.copy()\n",
    "quant = np.quantile(s_l[:, 1], 0.75) # равен 65\n",
    "q = np.clip(q, 0, quant, q)\n",
    "s_l = np.concatenate((s_l[:,0].reshape(100000,1),q), axis = 1)\n",
    "print(s_l) # получившийся массив\n",
    "np.savetxt('quantile_75', s_l, delimiter = ', ', fmt = '%.0f', header = 'minutes, ingredients', comments = \"\")"
   ]
  },
  {
   "cell_type": "markdown",
   "metadata": {},
   "source": [
    "4. Посчитайте, для скольких рецептов указана продолжительность, равная нулю. Замените для таких строк значение в данном столбце на 1."
   ]
  },
  {
   "cell_type": "code",
   "execution_count": 4,
   "metadata": {},
   "outputs": [
    {
     "name": "stdout",
     "output_type": "stream",
     "text": [
      "479\n",
      "0\n"
     ]
    }
   ],
   "source": [
    "new_s = s_l[:, 1:]\n",
    "zero_s = (new_s[:, 0] == 0) # булев массив той же формы что и new_s, который является маской для исходного массива\n",
    "print(np.sum(new_s[:, 0] == 0)) # смотрим, сколько значений раных нулю есть изначально\n",
    "np.place(new_s[:, 0], zero_s, 1) # заменяем 0 на 1\n",
    "print(np.sum(new_s[:, 0] == 0)) # видим, что нулей больше нет"
   ]
  },
  {
   "cell_type": "markdown",
   "metadata": {},
   "source": [
    "5. Посчитайте, сколько уникальных рецептов находится в датасете."
   ]
  },
  {
   "cell_type": "code",
   "execution_count": 5,
   "metadata": {},
   "outputs": [
    {
     "name": "stdout",
     "output_type": "stream",
     "text": [
      "100000\n"
     ]
    }
   ],
   "source": [
    "print(len(np.unique(s_l, axis = 0))) # количество уникальных рецептов"
   ]
  },
  {
   "cell_type": "markdown",
   "metadata": {},
   "source": [
    "6. Сколько и каких различных значений кол-ва ингредиентов присутвует в рецептах из датасета?"
   ]
  },
  {
   "cell_type": "code",
   "execution_count": 6,
   "metadata": {},
   "outputs": [
    {
     "name": "stdout",
     "output_type": "stream",
     "text": [
      "[[    1    13]\n",
      " [    2   926]\n",
      " [    3  2895]\n",
      " [    4  5515]\n",
      " [    5  7913]\n",
      " [    6  9376]\n",
      " [    7 10628]\n",
      " [    8 10951]\n",
      " [    9 10585]\n",
      " [   10  9591]\n",
      " [   11  8297]\n",
      " [   12  6605]\n",
      " [   13  4997]\n",
      " [   14  3663]\n",
      " [   15  2595]\n",
      " [   16  1767]\n",
      " [   17  1246]\n",
      " [   18   790]\n",
      " [   19   573]\n",
      " [   20   376]\n",
      " [   21   217]\n",
      " [   22   161]\n",
      " [   23   105]\n",
      " [   24    69]\n",
      " [   25    50]\n",
      " [   26    28]\n",
      " [   27    16]\n",
      " [   28    16]\n",
      " [   29    12]\n",
      " [   30    12]\n",
      " [   31     3]\n",
      " [   32     1]\n",
      " [   33     2]\n",
      " [   34     1]\n",
      " [   35     3]\n",
      " [   37     1]\n",
      " [   39     1]]\n"
     ]
    }
   ],
   "source": [
    "unique, counts = np.unique (new_s[:,1], return_counts= True )\n",
    "print(np.asarray((unique, counts)).T )"
   ]
  },
  {
   "cell_type": "markdown",
   "metadata": {},
   "source": [
    "7. Создайте версию массива, содержащую информацию только о рецептах, состоящих не более чем из 5 ингредиентов."
   ]
  },
  {
   "cell_type": "code",
   "execution_count": 7,
   "metadata": {},
   "outputs": [
    {
     "name": "stdout",
     "output_type": "stream",
     "text": [
      "[[446597     15      5]\n",
      " [204134      5      3]\n",
      " [ 25623      6      4]\n",
      " ...\n",
      " [ 52088     60      5]\n",
      " [128811     15      4]\n",
      " [370915      5      4]] 17262\n"
     ]
    }
   ],
   "source": [
    "five_ingr = np.where(s_l[:,2] > 5) # находим индексы строк, где количество ингредиентов не более пяти\n",
    "five_s = np.delete(s_l, five_ingr, axis = 0) # удаляем строки\n",
    "np.savetxt('ingr_less_than_five', five_s, delimiter = \", \", fmt = \"%.0f\", header = 'id, minutes, n_ingredients', comments = \"\") # сохраняем в формате csv\n",
    "print(five_s, len(five_s))"
   ]
  },
  {
   "cell_type": "markdown",
   "metadata": {},
   "source": [
    "8. Для каждого рецепта посчитайте, сколько в среднем ингредиентов приходится на одну минуту рецепта. Найдите максимальное значение этой величины для всего датасета"
   ]
  },
  {
   "cell_type": "code",
   "execution_count": 8,
   "metadata": {},
   "outputs": [
    {
     "name": "stdout",
     "output_type": "stream",
     "text": [
      "[[0.26666667]\n",
      " [0.28      ]\n",
      " [0.6       ]\n",
      " ...\n",
      " [0.23076923]\n",
      " [0.8       ]\n",
      " [0.21538462]]\n",
      "max: 24.0\n"
     ]
    }
   ],
   "source": [
    "mid_s = new_s[:, 1] / new_s[:, 0]\n",
    "print(mid_s.reshape(100000, 1))\n",
    "print('max:', mid_s.max())"
   ]
  },
  {
   "cell_type": "markdown",
   "metadata": {},
   "source": [
    "9. Вычислите среднее количество ингредиентов для топ-100 рецептов с наибольшей продолжительностью"
   ]
  },
  {
   "cell_type": "code",
   "execution_count": 9,
   "metadata": {},
   "outputs": [
    {
     "name": "stdout",
     "output_type": "stream",
     "text": [
      "[[65 14]\n",
      " [65 12]\n",
      " [65 14]\n",
      " ...\n",
      " [ 1  7]\n",
      " [ 1  8]\n",
      " [ 1 14]]\n",
      "9.96 ингредиентов\n"
     ]
    }
   ],
   "source": [
    "sorted_down = new_s[new_s[:, 0].argsort()[::-1]] # получаем топ-100 рецептов\n",
    "print(sorted_down)\n",
    "print(sorted_down[:100,1].mean(), 'ингредиентов')"
   ]
  },
  {
   "cell_type": "markdown",
   "metadata": {},
   "source": [
    "10. Выберите случайным образом и выведите информацию о 10 различных рецептах"
   ]
  },
  {
   "cell_type": "code",
   "execution_count": 10,
   "metadata": {},
   "outputs": [
    {
     "data": {
      "text/plain": [
       "array([[255237,     35,     16],\n",
       "       [342565,     30,      7],\n",
       "       [239891,     40,      8],\n",
       "       [160990,     45,      7],\n",
       "       [ 25516,     50,      5],\n",
       "       [ 72773,     65,      8],\n",
       "       [ 61059,     20,      8],\n",
       "       [250551,     40,      7],\n",
       "       [278203,     50,      6],\n",
       "       [218429,      5,      6]])"
      ]
     },
     "execution_count": 10,
     "metadata": {},
     "output_type": "execute_result"
    }
   ],
   "source": [
    "rand_s = np.random.permutation(s_l)\n",
    "rand_s[:10,:]"
   ]
  },
  {
   "cell_type": "markdown",
   "metadata": {},
   "source": [
    "11. Выведите процент рецептов, кол-во ингредиентов в которых меньше среднего."
   ]
  },
  {
   "cell_type": "code",
   "execution_count": 23,
   "metadata": {},
   "outputs": [
    {
     "name": "stdout",
     "output_type": "stream",
     "text": [
      "58.802%\n"
     ]
    }
   ],
   "source": [
    "print('{:.3%}'.format((new_s[:, 1] < new_s[:,1].mean()).mean()))"
   ]
  },
  {
   "cell_type": "markdown",
   "metadata": {},
   "source": [
    "12. Назовем \"простым\" такой рецепт, длительность выполнения которого не больше 20 минут и кол-во ингредиентов в котором не больше 5. Создайте версию датасета с дополнительным столбцом, значениями которого являются 1, если рецепт простой, и 0 в противном случае."
   ]
  },
  {
   "cell_type": "code",
   "execution_count": 12,
   "metadata": {},
   "outputs": [
    {
     "data": {
      "text/plain": [
       "array([[127244,     60,     16,      0],\n",
       "       [ 23891,     25,      7,      0],\n",
       "       [ 94746,     10,      6,      0],\n",
       "       ...,\n",
       "       [498432,     65,     15,      0],\n",
       "       [370915,      5,      4,      1],\n",
       "       [ 81993,     65,     14,      0]])"
      ]
     },
     "execution_count": 12,
     "metadata": {},
     "output_type": "execute_result"
    }
   ],
   "source": [
    "simple = np.linspace(0,0,100000, dtype = np.int32).reshape(100000,1)\n",
    "cond = ((s_l[:,1] <= 20) & (s_l[:,2] <= 5)).reshape(100000, 1)\n",
    "np.place(simple, cond, 1)\n",
    "a = np.concatenate((s_l, simple), axis = 1)\n",
    "np.savetxt('simple_recipe', a, delimiter = ', ', fmt = \"%.0f\", header = 'id, minutes, ingredients, simple', comments = \"\")\n",
    "a "
   ]
  },
  {
   "cell_type": "markdown",
   "metadata": {},
   "source": [
    "13. Выведите процент \"простых\" рецептов в датасете"
   ]
  },
  {
   "cell_type": "code",
   "execution_count": 24,
   "metadata": {},
   "outputs": [
    {
     "name": "stdout",
     "output_type": "stream",
     "text": [
      "9.552%\n"
     ]
    }
   ],
   "source": [
    "print('{:.3%}'.format((a[:,3] == 1).mean()))"
   ]
  },
  {
   "cell_type": "markdown",
   "metadata": {},
   "source": [
    "14. Разделим рецепты на группы по следующему правилу. Назовем рецепты короткими, если их продолжительность составляет менее 10 минут; стандартными, если их продолжительность составляет более 10, но менее 20 минут; и длинными, если их продолжительность составляет не менее 20 минут. Создайте трехмерный массив, где нулевая ось отвечает за номер группы (короткий, стандартный или длинный рецепт), первая ось - за сам рецепт и вторая ось - за характеристики рецепта. Выберите максимальное количество рецептов из каждой группы таким образом, чтобы было возможно сформировать трехмерный массив. Выведите форму полученного массива."
   ]
  },
  {
   "cell_type": "code",
   "execution_count": 14,
   "metadata": {},
   "outputs": [
    {
     "name": "stdout",
     "output_type": "stream",
     "text": [
      "[[[ 67660      5      6]\n",
      "  [366174      7      9]\n",
      "  [204134      5      3]\n",
      "  ...\n",
      "  [420725      5      3]\n",
      "  [  4747      1      9]\n",
      "  [370915      5      4]]\n",
      "\n",
      " [[ 33941     18      9]\n",
      "  [446597     15      5]\n",
      "  [ 81006     12      7]\n",
      "  ...\n",
      "  [278297     12      7]\n",
      "  [ 66970     15      8]\n",
      "  [ 90921     18      8]]\n",
      "\n",
      " [[127244     60     16]\n",
      "  [ 23891     25      7]\n",
      "  [157911     60     14]\n",
      "  ...\n",
      "  [168901     25      7]\n",
      "  [392339     35     13]\n",
      "  [206732     45     10]]] 3 (3, 7588, 3)\n"
     ]
    }
   ],
   "source": [
    "short = s_l[:][new_s[:,0] < 10] # версия массива с короткими рецептами\n",
    "medium = s_l[:][(new_s[:,0] > 10) & (new_s[:,0] < 20)] # массив со стандартными рецептами\n",
    "long = s_l[:][new_s[:,0] >= 20] # массив с длинными рецептами\n",
    "predel = min(len(short), len(medium), len(long)) # вычисляем, какое кол-во рецептов взять, чтобы сформировать массив\n",
    "three_d = np.array([short[:predel,:], \n",
    "                    medium[:predel,:],\n",
    "                    long[:predel,:]])\n",
    "print(three_d, three_d.ndim, three_d.shape) "
   ]
  },
  {
   "cell_type": "code",
   "execution_count": null,
   "metadata": {},
   "outputs": [],
   "source": []
  }
 ],
 "metadata": {
  "kernelspec": {
   "display_name": "Python 3 (ipykernel)",
   "language": "python",
   "name": "python3"
  },
  "language_info": {
   "codemirror_mode": {
    "name": "ipython",
    "version": 3
   },
   "file_extension": ".py",
   "mimetype": "text/x-python",
   "name": "python",
   "nbconvert_exporter": "python",
   "pygments_lexer": "ipython3",
   "version": "3.9.13"
  }
 },
 "nbformat": 4,
 "nbformat_minor": 4
}
